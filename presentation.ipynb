{
  "nbformat": 4,
  "nbformat_minor": 0,
  "metadata": {
    "colab": {
      "provenance": [],
      "authorship_tag": "ABX9TyOEPj6z0CnOxWrTZZzu1Mt5",
      "include_colab_link": true
    },
    "kernelspec": {
      "name": "python3",
      "display_name": "Python 3"
    },
    "language_info": {
      "name": "python"
    }
  },
  "cells": [
    {
      "cell_type": "markdown",
      "metadata": {
        "id": "view-in-github",
        "colab_type": "text"
      },
      "source": [
        "<a href=\"https://colab.research.google.com/github/bilmark0/Deep-Learning-alpjai-Main-Project/blob/main/presentation.ipynb\" target=\"_parent\"><img src=\"https://colab.research.google.com/assets/colab-badge.svg\" alt=\"Open In Colab\"/></a>"
      ]
    },
    {
      "cell_type": "code",
      "execution_count": null,
      "metadata": {
        "id": "TMgmXjjXFMux"
      },
      "outputs": [],
      "source": [
        "import os\n",
        "import tensorflow as tf\n",
        "import cv2\n",
        "import numpy as np\n",
        "import matplotlib.pyplot as plt\n",
        "\n",
        "# Load the saved model\n",
        "model = tf.keras.models.load_model('mask_rcnn_best_model.keras')\n",
        "\n",
        "# Directory containing the images\n",
        "image_directory = 'test_v2/'\n",
        "\n",
        "# Iterate through all files in the directory\n",
        "for file_name in os.listdir(image_directory):\n",
        "    # Construct the full file path\n",
        "    image_path = os.path.join(image_directory, file_name)\n",
        "\n",
        "    # Check if the file is an image (e.g., ends with .jpg, .png)\n",
        "    if not file_name.lower().endswith(('.jpg', '.jpeg', '.png')):\n",
        "        continue\n",
        "\n",
        "    # Load and preprocess the input image\n",
        "    image = cv2.imread(image_path)\n",
        "    if image is None:\n",
        "        print(f\"Unable to read image: {image_path}\")\n",
        "        continue\n",
        "\n",
        "    # Resize the image to the input shape the model expects\n",
        "    image_resized = cv2.resize(image, (384, 384))\n",
        "\n",
        "    # Normalize the image\n",
        "    image_resized = image_resized.astype(np.float32) / 255.0\n",
        "\n",
        "    # Expand dimensions to add a batch axis\n",
        "    image_input = np.expand_dims(image_resized, axis=0)\n",
        "\n",
        "    # Make prediction\n",
        "    predictions = model.predict(image_input)\n",
        "\n",
        "    # Post-process predictions\n",
        "    mask = predictions[0]\n",
        "    mask = (mask > 0.5).astype(np.uint8)  # Convert to binary\n",
        "\n",
        "    # Plot the original image and the predicted mask\n",
        "    fig, axes = plt.subplots(1, 2, figsize=(12, 6))\n",
        "\n",
        "    # Original image\n",
        "    axes[0].imshow(cv2.cvtColor(image_resized, cv2.COLOR_BGR2RGB))  # Convert BGR to RGB for proper display\n",
        "    axes[0].set_title(\"Original Image\")\n",
        "    axes[0].axis('off')\n",
        "\n",
        "    # Predicted mask\n",
        "    axes[1].imshow(mask, cmap='gray')\n",
        "    axes[1].set_title(\"Predicted Mask\")\n",
        "    axes[1].axis('off')\n",
        "\n",
        "    plt.show()\n"
      ]
    }
  ]
}